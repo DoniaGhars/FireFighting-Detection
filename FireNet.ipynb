{
 "cells": [
  {
   "cell_type": "code",
   "execution_count": 18,
   "id": "68aa6c5f",
   "metadata": {},
   "outputs": [],
   "source": [
    "import os\n",
    "import cv2\n",
    "import numpy as np\n",
    "from tqdm import tqdm"
   ]
  },
  {
   "cell_type": "code",
   "execution_count": 19,
   "id": "c6bbd822",
   "metadata": {},
   "outputs": [
    {
     "name": "stdout",
     "output_type": "stream",
     "text": [
      "['Fire', 'NoFire']\n"
     ]
    }
   ],
   "source": [
    "DATADIR = 'C:\\\\Users\\\\Donia\\\\Desktop\\\\Train\\\\Train'\n",
    "print(os.listdir(DATADIR))"
   ]
  },
  {
   "cell_type": "code",
   "execution_count": 20,
   "id": "815ad530",
   "metadata": {},
   "outputs": [],
   "source": [
    "CATEGORIES = ['Fire', 'NoFire']"
   ]
  },
  {
   "cell_type": "code",
   "execution_count": 21,
   "id": "43ac320c",
   "metadata": {},
   "outputs": [],
   "source": [
    "IMG_SIZE = 64\n",
    "def create_training_data():\n",
    "    training_data = []\n",
    "    for category in CATEGORIES:  \n",
    "\n",
    "        path = os.path.join(DATADIR,category) \n",
    "        class_num = CATEGORIES.index(category)  # get the classification  (0 or a 1). 0=C 1=O\n",
    "\n",
    "        for img in tqdm(os.listdir(path)):  # iterate over each image\n",
    "            try:\n",
    "                img_array = cv2.imread(os.path.join(path,img))  # convert to array\n",
    "                new_array = cv2.resize(img_array, (IMG_SIZE, IMG_SIZE))  # resize to normalize data size\n",
    "                training_data.append([new_array, class_num])  # add this to our training_data\n",
    "            except Exception as e:  # in the interest in keeping the output clean...\n",
    "                pass\n",
    "              \n",
    "    return training_data"
   ]
  },
  {
   "cell_type": "code",
   "execution_count": 22,
   "id": "2b7e4bf7",
   "metadata": {},
   "outputs": [
    {
     "name": "stderr",
     "output_type": "stream",
     "text": [
      "100%|██████████| 3046/3046 [00:19<00:00, 153.63it/s]\n",
      "100%|██████████| 9833/9833 [00:20<00:00, 477.48it/s] \n"
     ]
    }
   ],
   "source": [
    "training_data = create_training_data()"
   ]
  },
  {
   "cell_type": "code",
   "execution_count": 23,
   "id": "e67020ee",
   "metadata": {},
   "outputs": [
    {
     "name": "stdout",
     "output_type": "stream",
     "text": [
      "12879\n",
      "1\n",
      "1\n",
      "1\n",
      "1\n",
      "1\n",
      "1\n",
      "0\n",
      "1\n",
      "1\n",
      "1\n"
     ]
    }
   ],
   "source": [
    "import random\n",
    "\n",
    "print(len(training_data))\n",
    "random.shuffle(training_data)\n",
    "for sample in training_data[:10]:\n",
    "    print(sample[1])"
   ]
  },
  {
   "cell_type": "code",
   "execution_count": 24,
   "id": "ee4679e9",
   "metadata": {},
   "outputs": [
    {
     "data": {
      "text/plain": [
       "(64, 64, 3)"
      ]
     },
     "execution_count": 24,
     "metadata": {},
     "output_type": "execute_result"
    }
   ],
   "source": [
    "X = []\n",
    "Y = []\n",
    "\n",
    "for features,label in training_data:\n",
    "    X.append(features)\n",
    "    Y.append(label)\n",
    "# try to get around split error\n",
    "Y = np.asarray(Y)\n",
    "\n",
    "X = np.array(X).reshape(-1, IMG_SIZE, IMG_SIZE, 3)\n",
    "X = X/255.0\n",
    "X.shape[1:]"
   ]
  },
  {
   "cell_type": "code",
   "execution_count": 25,
   "id": "1f5c1e5e",
   "metadata": {},
   "outputs": [],
   "source": [
    "import tensorflow as tf\n",
    "from tensorflow.keras.datasets import cifar10\n",
    "from tensorflow.keras.preprocessing.image import ImageDataGenerator\n",
    "from tensorflow.keras.models import Sequential\n",
    "from tensorflow.keras.layers import Dense, Dropout, Activation, Flatten\n",
    "from tensorflow.keras.layers import Conv2D, AveragePooling2D\n",
    "\n",
    "model = Sequential()\n",
    "\n",
    "\n",
    "model.add(Conv2D(filters=16, kernel_size=(3, 3), activation='relu', input_shape=X.shape[1:]))\n",
    "model.add(AveragePooling2D())\n",
    "model.add(Dropout(0.5))\n",
    "\n",
    "model.add(Conv2D(filters=32, kernel_size=(3, 3), activation='relu'))\n",
    "model.add(AveragePooling2D())\n",
    "model.add(Dropout(0.5))\n",
    "\n",
    "model.add(Conv2D(filters=64, kernel_size=(3, 3), activation='relu'))\n",
    "model.add(AveragePooling2D())\n",
    "model.add(Dropout(0.5))\n",
    "\n",
    "model.add(Flatten())\n",
    "\n",
    "model.add(Dense(units=256, activation='relu'))\n",
    "model.add(Dropout(0.2))\n",
    "\n",
    "model.add(Dense(units=128, activation='relu'))\n",
    "\n",
    "model.add(Dense(units=2, activation = 'softmax'))\n",
    "\n",
    "model.compile(loss='sparse_categorical_crossentropy',\n",
    "              optimizer='adam',\n",
    "              metrics=['accuracy'])"
   ]
  },
  {
   "cell_type": "code",
   "execution_count": 26,
   "id": "e3935ac3",
   "metadata": {},
   "outputs": [
    {
     "name": "stdout",
     "output_type": "stream",
     "text": [
      "Model: \"sequential_1\"\n",
      "_________________________________________________________________\n",
      " Layer (type)                Output Shape              Param #   \n",
      "=================================================================\n",
      " conv2d_3 (Conv2D)           (None, 62, 62, 16)        448       \n",
      "                                                                 \n",
      " average_pooling2d_3 (Avera  (None, 31, 31, 16)        0         \n",
      " gePooling2D)                                                    \n",
      "                                                                 \n",
      " dropout_4 (Dropout)         (None, 31, 31, 16)        0         \n",
      "                                                                 \n",
      " conv2d_4 (Conv2D)           (None, 29, 29, 32)        4640      \n",
      "                                                                 \n",
      " average_pooling2d_4 (Avera  (None, 14, 14, 32)        0         \n",
      " gePooling2D)                                                    \n",
      "                                                                 \n",
      " dropout_5 (Dropout)         (None, 14, 14, 32)        0         \n",
      "                                                                 \n",
      " conv2d_5 (Conv2D)           (None, 12, 12, 64)        18496     \n",
      "                                                                 \n",
      " average_pooling2d_5 (Avera  (None, 6, 6, 64)          0         \n",
      " gePooling2D)                                                    \n",
      "                                                                 \n",
      " dropout_6 (Dropout)         (None, 6, 6, 64)          0         \n",
      "                                                                 \n",
      " flatten_1 (Flatten)         (None, 2304)              0         \n",
      "                                                                 \n",
      " dense_3 (Dense)             (None, 256)               590080    \n",
      "                                                                 \n",
      " dropout_7 (Dropout)         (None, 256)               0         \n",
      "                                                                 \n",
      " dense_4 (Dense)             (None, 128)               32896     \n",
      "                                                                 \n",
      " dense_5 (Dense)             (None, 2)                 258       \n",
      "                                                                 \n",
      "=================================================================\n",
      "Total params: 646818 (2.47 MB)\n",
      "Trainable params: 646818 (2.47 MB)\n",
      "Non-trainable params: 0 (0.00 Byte)\n",
      "_________________________________________________________________\n"
     ]
    }
   ],
   "source": [
    "model.summary()"
   ]
  },
  {
   "cell_type": "code",
   "execution_count": 27,
   "id": "ccf108bf",
   "metadata": {},
   "outputs": [],
   "source": [
    "from tensorflow.keras.callbacks import EarlyStopping"
   ]
  },
  {
   "cell_type": "code",
   "execution_count": 28,
   "id": "278d9784",
   "metadata": {},
   "outputs": [],
   "source": [
    "datagen = ImageDataGenerator(\n",
    "    rotation_range=20,\n",
    "    width_shift_range=0.2,\n",
    "    height_shift_range=0.2,\n",
    "    shear_range=0.2,\n",
    "    zoom_range=0.2,\n",
    "    horizontal_flip=True,\n",
    "    fill_mode='nearest'\n",
    ")"
   ]
  },
  {
   "cell_type": "code",
   "execution_count": 29,
   "id": "063cc883",
   "metadata": {},
   "outputs": [
    {
     "data": {
      "text/plain": [
       "numpy.ndarray"
      ]
     },
     "execution_count": 29,
     "metadata": {},
     "output_type": "execute_result"
    }
   ],
   "source": [
    "type(Y)"
   ]
  },
  {
   "cell_type": "code",
   "execution_count": 30,
   "id": "f7afe30f",
   "metadata": {},
   "outputs": [
    {
     "name": "stdout",
     "output_type": "stream",
     "text": [
      "Epoch 1/50\n"
     ]
    },
    {
     "name": "stderr",
     "output_type": "stream",
     "text": [
      "C:\\Users\\Donia\\AppData\\Local\\Temp\\ipykernel_320\\1824055020.py:14: UserWarning: `Model.fit_generator` is deprecated and will be removed in a future version. Please use `Model.fit`, which supports generators.\n",
      "  history = model.fit_generator(train_generator,\n"
     ]
    },
    {
     "name": "stdout",
     "output_type": "stream",
     "text": [
      "282/282 [==============================] - 21s 71ms/step - loss: 0.3635 - accuracy: 0.8268 - val_loss: 0.2870 - val_accuracy: 0.8709\n",
      "Epoch 2/50\n",
      "282/282 [==============================] - 20s 70ms/step - loss: 0.2801 - accuracy: 0.8642 - val_loss: 0.2433 - val_accuracy: 0.8784\n",
      "Epoch 3/50\n",
      "282/282 [==============================] - 20s 72ms/step - loss: 0.2643 - accuracy: 0.8738 - val_loss: 0.2374 - val_accuracy: 0.8910\n",
      "Epoch 4/50\n",
      "282/282 [==============================] - 21s 74ms/step - loss: 0.2661 - accuracy: 0.8803 - val_loss: 0.2361 - val_accuracy: 0.8882\n",
      "Epoch 5/50\n",
      "282/282 [==============================] - 21s 75ms/step - loss: 0.2595 - accuracy: 0.8839 - val_loss: 0.2296 - val_accuracy: 0.8900\n",
      "Epoch 6/50\n",
      "282/282 [==============================] - 22s 78ms/step - loss: 0.2542 - accuracy: 0.8890 - val_loss: 0.2294 - val_accuracy: 0.8998\n",
      "Epoch 7/50\n",
      "282/282 [==============================] - 22s 78ms/step - loss: 0.2520 - accuracy: 0.8865 - val_loss: 0.2287 - val_accuracy: 0.8931\n",
      "Epoch 8/50\n",
      "282/282 [==============================] - 22s 79ms/step - loss: 0.2476 - accuracy: 0.8901 - val_loss: 0.2412 - val_accuracy: 0.8980\n",
      "Epoch 9/50\n",
      "282/282 [==============================] - 22s 76ms/step - loss: 0.2550 - accuracy: 0.8822 - val_loss: 0.2237 - val_accuracy: 0.8926\n",
      "Epoch 10/50\n",
      "282/282 [==============================] - 22s 78ms/step - loss: 0.2436 - accuracy: 0.8894 - val_loss: 0.2131 - val_accuracy: 0.8978\n",
      "Epoch 11/50\n",
      "282/282 [==============================] - 22s 78ms/step - loss: 0.2385 - accuracy: 0.8907 - val_loss: 0.2215 - val_accuracy: 0.8975\n",
      "Epoch 12/50\n",
      "282/282 [==============================] - 22s 78ms/step - loss: 0.2463 - accuracy: 0.8911 - val_loss: 0.2102 - val_accuracy: 0.9011\n",
      "Epoch 13/50\n",
      "282/282 [==============================] - 22s 80ms/step - loss: 0.2330 - accuracy: 0.8952 - val_loss: 0.2096 - val_accuracy: 0.9035\n",
      "Epoch 14/50\n",
      "282/282 [==============================] - 23s 80ms/step - loss: 0.2337 - accuracy: 0.8986 - val_loss: 0.2249 - val_accuracy: 0.8887\n",
      "Epoch 15/50\n",
      "282/282 [==============================] - 23s 81ms/step - loss: 0.2290 - accuracy: 0.9002 - val_loss: 0.2067 - val_accuracy: 0.9092\n",
      "Epoch 16/50\n",
      "282/282 [==============================] - 22s 78ms/step - loss: 0.2356 - accuracy: 0.8964 - val_loss: 0.2145 - val_accuracy: 0.9004\n",
      "Epoch 17/50\n",
      "282/282 [==============================] - 23s 81ms/step - loss: 0.2193 - accuracy: 0.9042 - val_loss: 0.2298 - val_accuracy: 0.9055\n",
      "Epoch 18/50\n",
      "282/282 [==============================] - 23s 83ms/step - loss: 0.2192 - accuracy: 0.9053 - val_loss: 0.1985 - val_accuracy: 0.9133\n",
      "Epoch 19/50\n",
      "282/282 [==============================] - 23s 80ms/step - loss: 0.2266 - accuracy: 0.8999 - val_loss: 0.2073 - val_accuracy: 0.9027\n",
      "Epoch 20/50\n",
      "282/282 [==============================] - 23s 81ms/step - loss: 0.2189 - accuracy: 0.9023 - val_loss: 0.2197 - val_accuracy: 0.8998\n",
      "Epoch 21/50\n",
      "282/282 [==============================] - 22s 78ms/step - loss: 0.2140 - accuracy: 0.9033 - val_loss: 0.1936 - val_accuracy: 0.9097\n",
      "Epoch 22/50\n",
      "282/282 [==============================] - 22s 80ms/step - loss: 0.2138 - accuracy: 0.9050 - val_loss: 0.1940 - val_accuracy: 0.9133\n",
      "Epoch 23/50\n",
      "282/282 [==============================] - 22s 78ms/step - loss: 0.2111 - accuracy: 0.9077 - val_loss: 0.1873 - val_accuracy: 0.9180\n",
      "Epoch 24/50\n",
      "282/282 [==============================] - 23s 80ms/step - loss: 0.2089 - accuracy: 0.9078 - val_loss: 0.1834 - val_accuracy: 0.9195\n",
      "Epoch 25/50\n",
      "282/282 [==============================] - 23s 82ms/step - loss: 0.2110 - accuracy: 0.9075 - val_loss: 0.1920 - val_accuracy: 0.9138\n",
      "Epoch 26/50\n",
      "282/282 [==============================] - 22s 78ms/step - loss: 0.2027 - accuracy: 0.9137 - val_loss: 0.1937 - val_accuracy: 0.9174\n",
      "Epoch 27/50\n",
      "282/282 [==============================] - 23s 81ms/step - loss: 0.2141 - accuracy: 0.9056 - val_loss: 0.1824 - val_accuracy: 0.9180\n",
      "Epoch 28/50\n",
      "282/282 [==============================] - 23s 82ms/step - loss: 0.2041 - accuracy: 0.9123 - val_loss: 0.1995 - val_accuracy: 0.9156\n",
      "Epoch 29/50\n",
      "282/282 [==============================] - 22s 80ms/step - loss: 0.2034 - accuracy: 0.9100 - val_loss: 0.1836 - val_accuracy: 0.9180\n",
      "Epoch 30/50\n",
      "282/282 [==============================] - 22s 80ms/step - loss: 0.2034 - accuracy: 0.9110 - val_loss: 0.1735 - val_accuracy: 0.9218\n",
      "Epoch 31/50\n",
      "282/282 [==============================] - 23s 80ms/step - loss: 0.2002 - accuracy: 0.9124 - val_loss: 0.1798 - val_accuracy: 0.9185\n",
      "Epoch 32/50\n",
      "282/282 [==============================] - 23s 80ms/step - loss: 0.1961 - accuracy: 0.9146 - val_loss: 0.1762 - val_accuracy: 0.9208\n",
      "Epoch 33/50\n",
      "282/282 [==============================] - 23s 80ms/step - loss: 0.1989 - accuracy: 0.9153 - val_loss: 0.1884 - val_accuracy: 0.9211\n",
      "Epoch 34/50\n",
      "282/282 [==============================] - 23s 80ms/step - loss: 0.1946 - accuracy: 0.9130 - val_loss: 0.1864 - val_accuracy: 0.9167\n",
      "Epoch 35/50\n",
      "282/282 [==============================] - ETA: 0s - loss: 0.1961 - accuracy: 0.9140Restoring model weights from the end of the best epoch: 30.\n",
      "282/282 [==============================] - 22s 79ms/step - loss: 0.1961 - accuracy: 0.9140 - val_loss: 0.1767 - val_accuracy: 0.9205\n",
      "Epoch 35: early stopping\n"
     ]
    }
   ],
   "source": [
    "from tensorflow.keras.callbacks import EarlyStopping\n",
    "from sklearn.model_selection import train_test_split\n",
    "\n",
    "# Split the data into training and validation sets\n",
    "X_train, X_val, Y_train, Y_val = train_test_split(X, Y, test_size=0.3, random_state=42)\n",
    "\n",
    "# Define the data generator\n",
    "train_generator = datagen.flow(X_train, Y_train, batch_size=32)\n",
    "\n",
    "# Define early stopping callback\n",
    "early_stopping = EarlyStopping(monitor='val_loss', patience=5, verbose=1, restore_best_weights=True)\n",
    "\n",
    "# Fit the model with early stopping\n",
    "history = model.fit_generator(train_generator,\n",
    "                               epochs=50,\n",
    "                               verbose=1,\n",
    "                               validation_data=(X_val, Y_val),\n",
    "                               callbacks=[early_stopping])\n"
   ]
  },
  {
   "cell_type": "code",
   "execution_count": 84,
   "id": "e17f03fb",
   "metadata": {
    "scrolled": true
   },
   "outputs": [
    {
     "name": "stderr",
     "output_type": "stream",
     "text": [
      "G:\\Anaconda\\Lib\\site-packages\\keras\\src\\engine\\training.py:3079: UserWarning: You are saving your model as an HDF5 file via `model.save()`. This file format is considered legacy. We recommend using instead the native Keras format, e.g. `model.save('my_model.keras')`.\n",
      "  saving_api.save_model(\n"
     ]
    }
   ],
   "source": [
    "modell=model.save('TrainedModels/Fire-64x64-color-v7.1-soft.h5')"
   ]
  },
  {
   "cell_type": "code",
   "execution_count": 31,
   "id": "a4a6a222",
   "metadata": {},
   "outputs": [
    {
     "name": "stdout",
     "output_type": "stream",
     "text": [
      "121/121 [==============================] - 2s 12ms/step - loss: 0.1735 - accuracy: 0.9218\n",
      "Validation Loss: 0.17348603904247284\n",
      "Validation Accuracy: 0.921842634677887\n"
     ]
    }
   ],
   "source": [
    "# Evaluate the model on the validation dataset\n",
    "val_loss, val_accuracy = model.evaluate(X_val, Y_val)\n",
    "\n",
    "print(\"Validation Loss:\", val_loss)\n",
    "print(\"Validation Accuracy:\", val_accuracy)\n"
   ]
  },
  {
   "cell_type": "code",
   "execution_count": 32,
   "id": "707a580a",
   "metadata": {},
   "outputs": [
    {
     "data": {
      "image/png": "[encoded data removed]",
      "text/plain": [
       "<Figure size 640x480 with 1 Axes>"
      ]
     },
     "metadata": {},
     "output_type": "display_data"
    }
   ],
   "source": [
    "from matplotlib import pyplot as plt\n",
    "# plt.plot(history.history['acc'])\n",
    "# plt.plot(history.history['val_acc'])\n",
    "plt.plot(history.history['accuracy'])\n",
    "plt.plot(history.history['val_accuracy'])\n",
    "plt.title('model accuracy')\n",
    "plt.ylabel('accuracy')\n",
    "plt.xlabel('epoch')\n",
    "plt.legend(['train', 'validation'], loc='upper left')\n",
    "plt.show()"
   ]
  },
  {
   "cell_type": "code",
   "execution_count": 33,
   "id": "2bf2a2d2",
   "metadata": {},
   "outputs": [
    {
     "data": {
      "image/png": "[encoded data removed]",
      "text/plain": [
       "<Figure size 640x480 with 1 Axes>"
      ]
     },
     "metadata": {},
     "output_type": "display_data"
    }
   ],
   "source": [
    "plt.plot(history.history['loss'])\n",
    "plt.plot(history.history['val_loss'])\n",
    "plt.title('model loss')\n",
    "plt.ylabel('loss')\n",
    "plt.xlabel('epoch')\n",
    "plt.legend(['train', 'validation'], loc='upper left')\n",
    "plt.show()"
   ]
  },
  {
   "cell_type": "code",
   "execution_count": 36,
   "id": "16ac7e98",
   "metadata": {},
   "outputs": [
    {
     "name": "stdout",
     "output_type": "stream",
     "text": [
      "['fire', 'nofire']\n"
     ]
    }
   ],
   "source": [
    "DATADIR1 = 'C:\\\\Users\\\\Donia\\\\Desktop\\\\test\\\\test'\n",
    "print(os.listdir(DATADIR))"
   ]
  },
  {
   "cell_type": "code",
   "execution_count": 37,
   "id": "ad4b9e16",
   "metadata": {},
   "outputs": [],
   "source": [
    "CATEGORIES = ['fire', 'nofire']"
   ]
  },
  {
   "cell_type": "code",
   "execution_count": 39,
   "id": "0e8171d6",
   "metadata": {},
   "outputs": [],
   "source": [
    "IMG_SIZE = 64\n",
    "def create_test_data():\n",
    "    test_data = []\n",
    "    for category in CATEGORIES:  \n",
    "\n",
    "        path = os.path.join(DATADIR1,category) \n",
    "        class_num = CATEGORIES.index(category)  # get the classification  (0 or a 1). 0=C 1=O\n",
    "\n",
    "        for img in tqdm(os.listdir(path)):  # iterate over each image\n",
    "            try:\n",
    "                img_array = cv2.imread(os.path.join(path,img))  # convert to array\n",
    "                new_array = cv2.resize(img_array, (IMG_SIZE, IMG_SIZE))  # resize to normalize data size\n",
    "                test_data.append([new_array, class_num])  # add this to our training_data\n",
    "            except Exception as e:  # in the interest in keeping the output clean...\n",
    "                pass\n",
    "              \n",
    "    return test_data"
   ]
  },
  {
   "cell_type": "code",
   "execution_count": 41,
   "id": "1b8733d6",
   "metadata": {},
   "outputs": [
    {
     "name": "stderr",
     "output_type": "stream",
     "text": [
      "100%|██████████| 2036/2036 [00:09<00:00, 223.61it/s]\n",
      "100%|██████████| 2361/2361 [00:17<00:00, 132.05it/s]\n"
     ]
    }
   ],
   "source": [
    "test_data = create_test_data()"
   ]
  },
  {
   "cell_type": "code",
   "execution_count": 42,
   "id": "8a7f0007",
   "metadata": {},
   "outputs": [
    {
     "data": {
      "text/plain": [
       "4397"
      ]
     },
     "execution_count": 42,
     "metadata": {},
     "output_type": "execute_result"
    }
   ],
   "source": [
    "2036+2361"
   ]
  },
  {
   "cell_type": "code",
   "execution_count": 67,
   "id": "307d9e31",
   "metadata": {},
   "outputs": [
    {
     "name": "stdout",
     "output_type": "stream",
     "text": [
      "4397\n",
      "4397\n",
      "(4397,)\n"
     ]
    },
    {
     "data": {
      "text/plain": [
       "array([0, 1, 1, ..., 1, 0, 0])"
      ]
     },
     "execution_count": 67,
     "metadata": {},
     "output_type": "execute_result"
    }
   ],
   "source": [
    "import random\n",
    "\n",
    "test_image_num=4397\n",
    "print(len(test_data))\n",
    "random.shuffle(test_data)\n",
    "test_labels=np.zeros((test_image_num,1))\n",
    "\n",
    "c=0\n",
    "for sample in test_data:\n",
    "    test_labels[c]=(sample[1])\n",
    "    c+=1\n",
    "print(c)\n",
    "actual_labels=(test_labels.reshape(test_image_num,))\n",
    "print(actual_labels.shape)\n",
    "actual_labels.astype(int)"
   ]
  },
  {
   "cell_type": "code",
   "execution_count": 68,
   "id": "1b80fc85",
   "metadata": {},
   "outputs": [
    {
     "data": {
      "text/plain": [
       "(64, 64, 3)"
      ]
     },
     "execution_count": 68,
     "metadata": {},
     "output_type": "execute_result"
    }
   ],
   "source": [
    "X = []\n",
    "Y = []\n",
    "\n",
    "for features,label in test_data:\n",
    "    X.append(features)\n",
    "    Y.append(label)\n",
    "\n",
    "# try to get around split error\n",
    "Y = np.asarray(Y)\n",
    "\n",
    "X = np.array(X).reshape(-1, IMG_SIZE, IMG_SIZE, 3)\n",
    "X = X/255.0\n",
    "X.shape[1:]"
   ]
  },
  {
   "cell_type": "code",
   "execution_count": 69,
   "id": "38d8dd8a",
   "metadata": {},
   "outputs": [
    {
     "data": {
      "text/plain": [
       "4397"
      ]
     },
     "execution_count": 69,
     "metadata": {},
     "output_type": "execute_result"
    }
   ],
   "source": [
    "test_image_num"
   ]
  },
  {
   "cell_type": "code",
   "execution_count": 74,
   "id": "ffb847c4",
   "metadata": {},
   "outputs": [
    {
     "name": "stdout",
     "output_type": "stream",
     "text": [
      "138/138 [==============================] - 2s 11ms/step\n"
     ]
    }
   ],
   "source": [
    "# Get the predicted probabilities for each class\n",
    "predicted_probabilities = model.predict(X)\n",
    "\n",
    "# Extract the class with the highest probability for each sample\n",
    "predicted_labels = np.argmax(predicted_probabilities, axis=1)"
   ]
  },
  {
   "cell_type": "code",
   "execution_count": 75,
   "id": "ba8df29c",
   "metadata": {},
   "outputs": [
    {
     "data": {
      "text/plain": [
       "array([0, 1, 1, ..., 1, 1, 1])"
      ]
     },
     "execution_count": 75,
     "metadata": {},
     "output_type": "execute_result"
    }
   ],
   "source": [
    "#predicted_labels=model.predict_classes(X)\n",
    "predicted_labels=(predicted_labels.reshape(test_image_num,))\n",
    "predicted_labels.astype(int)"
   ]
  },
  {
   "cell_type": "code",
   "execution_count": 77,
   "id": "8268cf0e",
   "metadata": {},
   "outputs": [],
   "source": [
    "from sklearn.metrics import confusion_matrix \n",
    "import itertools"
   ]
  },
  {
   "cell_type": "code",
   "execution_count": 78,
   "id": "757c705d",
   "metadata": {},
   "outputs": [
    {
     "name": "stdout",
     "output_type": "stream",
     "text": [
      "Confusion matrix, without normalization\n",
      "[[1340  696]\n",
      " [ 236 2125]]\n"
     ]
    },
    {
     "data": {
      "image/png": "[encoded data removed]",
      "text/plain": [
       "<Figure size 640x480 with 2 Axes>"
      ]
     },
     "metadata": {},
     "output_type": "display_data"
    }
   ],
   "source": [
    "def plot_confusion_matrix(cm, classes,\n",
    "                          normalize=False,\n",
    "                          title='Confusion matrix',\n",
    "                          cmap=plt.cm.Blues):\n",
    "    \"\"\"\n",
    "    This function prints and plots the confusion matrix.\n",
    "    Normalization can be applied by setting `normalize=True`.\n",
    "    \"\"\"\n",
    "    if normalize:\n",
    "        cm = cm.astype('float') / cm.sum(axis=1)[:, np.newaxis]\n",
    "        print(\"Normalized confusion matrix\")\n",
    "    else:\n",
    "        print('Confusion matrix, without normalization')\n",
    "\n",
    "    print(cm)\n",
    "\n",
    "    plt.imshow(cm, interpolation='nearest', cmap=cmap)\n",
    "    plt.title(title)\n",
    "    plt.colorbar()\n",
    "    tick_marks = np.arange(len(classes))\n",
    "    plt.xticks(tick_marks, classes, rotation=45)\n",
    "    plt.yticks(tick_marks, classes)\n",
    "\n",
    "    fmt = '.2f' if normalize else 'd'\n",
    "    thresh = cm.max() / 2.\n",
    "    for i, j in itertools.product(range(cm.shape[0]), range(cm.shape[1])):\n",
    "        plt.text(j, i, format(cm[i, j], fmt),\n",
    "                 horizontalalignment=\"center\",\n",
    "                 color=\"white\" if cm[i, j] > thresh else \"black\")\n",
    "\n",
    "    plt.ylabel('True label')\n",
    "    plt.xlabel('Predicted label')\n",
    "    plt.tight_layout()\n",
    "\n",
    "cm = confusion_matrix(actual_labels, predicted_labels)\n",
    "#test_batches.class_indices\n",
    "cm_plot_labels=['Fire','No Fire']\n",
    "plot_confusion_matrix(cm, cm_plot_labels,title='Confusion Matrix')"
   ]
  },
  {
   "cell_type": "code",
   "execution_count": 81,
   "id": "6e693717",
   "metadata": {},
   "outputs": [],
   "source": [
    "import time"
   ]
  },
  {
   "cell_type": "code",
   "execution_count": 92,
   "id": "6611a38c",
   "metadata": {},
   "outputs": [],
   "source": [
    "cap = cv2.VideoCapture(r'Fireee.mkv')"
   ]
  },
  {
   "cell_type": "code",
   "execution_count": 93,
   "id": "b2d79a93",
   "metadata": {},
   "outputs": [
    {
     "data": {
      "text/plain": [
       "< cv2.VideoCapture 0000027D375FC130>"
      ]
     },
     "execution_count": 93,
     "metadata": {},
     "output_type": "execute_result"
    }
   ],
   "source": [
    "cap"
   ]
  },
  {
   "cell_type": "code",
   "execution_count": 94,
   "id": "1bfc567f",
   "metadata": {},
   "outputs": [],
   "source": [
    "cap = cv2.VideoCapture(r'Fireee.mkv')\n",
    "time.sleep(2)\n",
    "if cap.isOpened(): # try to get the first frame\n",
    "    rval, frame = cap.read()\n",
    "else:\n",
    "    rval = False\n",
    "\n",
    "IMG_SIZE = 64\n",
    "# IMG_SIZE = 224\n",
    "\n",
    "#for i in range(2500):\n",
    "#    cap.read()\n",
    "\n",
    "\n",
    "\n",
    "while(1):\n",
    "\n",
    "    rval, image = cap.read()\n",
    "    if rval==True:\n",
    "        orig = image.copy()\n",
    "        \n",
    "        # image = cv2.cvtColor(image, cv2.COLOR_BGR2GRAY)\n",
    "        image = cv2.resize(image, (IMG_SIZE, IMG_SIZE))  \n",
    "        image = image.astype(\"float\") / 255.0\n",
    "        image = img_to_array(image)\n",
    "        image = np.expand_dims(image, axis=0)\n",
    "        \n",
    "        tic = time.time()\n",
    "        fire_prob = modell.predict(image)[0][0] * 100\n",
    "        toc = time.time()\n",
    "        print(\"Time taken = \", toc - tic)\n",
    "        print(\"FPS: \", 1 / np.float64(toc - tic))\n",
    "        print(\"Fire Probability: \", fire_prob)\n",
    "        print(\"Predictions: \", modell.predict(image))\n",
    "        print(image.shape)\n",
    "        \n",
    "        label = \"Fire Probability: \" + str(fire_prob)\n",
    "        cv2.putText(orig, label, (10, 25),  cv2.FONT_HERSHEY_SIMPLEX,0.7, (0, 255, 0), 2)\n",
    "\n",
    "        cv2.imshow(\"Output\", orig)\n",
    "        \n",
    "        key = cv2.waitKey(10)\n",
    "        if key == 27: # exit on ESC\n",
    "            break\n",
    "    elif rval==False:\n",
    "            break\n",
    "end = time.time()\n",
    "\n",
    "\n",
    "cap.release()\n",
    "cv2.destroyAllWindows()"
   ]
  },
  {
   "cell_type": "code",
   "execution_count": null,
   "id": "d7f60ffb",
   "metadata": {},
   "outputs": [],
   "source": []
  }
 ],
 "metadata": {
  "kernelspec": {
   "display_name": "Python 3 (ipykernel)",
   "language": "python",
   "name": "python3"
  },
  "language_info": {
   "codemirror_mode": {
    "name": "ipython",
    "version": 3
   },
   "file_extension": ".py",
   "mimetype": "text/x-python",
   "name": "python",
   "nbconvert_exporter": "python",
   "pygments_lexer": "ipython3",
   "version": "3.11.3"
  }
 },
 "nbformat": 4,
 "nbformat_minor": 5
}
